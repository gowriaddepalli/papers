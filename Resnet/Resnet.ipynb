{
  "nbformat": 4,
  "nbformat_minor": 0,
  "metadata": {
    "colab": {
      "name": "Resnet.ipynb",
      "provenance": [],
      "collapsed_sections": []
    },
    "kernelspec": {
      "name": "python3",
      "display_name": "Python 3"
    },
    "accelerator": "GPU"
  },
  "cells": [
    {
      "cell_type": "markdown",
      "metadata": {
        "id": "hddpB7Iu8ynD"
      },
      "source": [
        "# Implementation of Resnet\n",
        "> In this notebook  I have implemented ResNet from scratch using Pytorch"
      ]
    },
    {
      "cell_type": "code",
      "metadata": {
        "id": "pYlM3FI-8mZK"
      },
      "source": [
        "#importing libraries\n",
        "import torch\n",
        "import torch.nn as nn\n",
        "import torch.nn.functional as F"
      ],
      "execution_count": 1,
      "outputs": []
    },
    {
      "cell_type": "code",
      "metadata": {
        "id": "XwerA9Bw1BZb"
      },
      "source": [
        "# an essential block of layers which forms resnets\n",
        "class ResBlock(nn.Module):\n",
        "  #in_channels -> input channels,int_channels->intermediate channels\n",
        "  def __init__(self,in_channels,int_channels,identity_downsample=None,stride=1):\n",
        "    super(ResBlock,self).__init__()\n",
        "    self.expansion = 4\n",
        "    self.conv1 = nn.Conv2d(in_channels,int_channels,kernel_size=1,stride=1,padding=0)\n",
        "    self.bn1 = nn.BatchNorm2d(int_channels)\n",
        "    self.conv2 = nn.Conv2d(int_channels,int_channels,kernel_size=3,stride=stride,padding=1)\n",
        "    self.bn2 = nn.BatchNorm2d(int_channels)\n",
        "    self.conv3 = nn.Conv2d(int_channels,int_channels*self.expansion,kernel_size=1,stride=1,padding=0)\n",
        "    self.bn3 = nn.BatchNorm2d(int_channels*self.expansion)\n",
        "    self.relu = nn.ReLU()\n",
        "    self.identity_downsample =  identity_downsample\n",
        "    self.stride = stride\n",
        "\n",
        "  def forward(self,x):\n",
        "    identity = x.clone()\n",
        "    x =  self.conv1(x)\n",
        "    x =  self.bn1(x)\n",
        "    x = self.relu(x)\n",
        "    x = self.conv2(x)\n",
        "    x = self.bn2(x)\n",
        "    x = self.relu(x)\n",
        "    x = self.conv3(x)\n",
        "    x = self.bn3(x)\n",
        "    #the so called skip connections\n",
        "    if self.identity_downsample is not None:\n",
        "      identity = self.identity_downsample(identity)\n",
        "\n",
        "    x += identity\n",
        "    x = self.relu(x)\n",
        "    return x\n",
        "\n",
        "class ResNet(nn.Module):\n",
        "  def __init__(self,block,layers,image_channels,num_classes):\n",
        "    super(ResNet,self).__init__()\n",
        "    self.in_channels = 64\n",
        "    self.conv1 = nn.Conv2d(image_channels,64,kernel_size=7,stride=2,padding=3)\n",
        "    self.bn1 =  nn.BatchNorm2d(64)\n",
        "    self.relu = nn.ReLU()\n",
        "    self.maxpool =  nn.MaxPool2d(kernel_size=3,stride=2,padding=1)\n",
        "    #the resnet layers\n",
        "    self.layer1 = self._make_layer(block,layers[0],int_channels=64,stride=1)\n",
        "    self.layer2 = self._make_layer(block,layers[1],int_channels=128,stride=2)\n",
        "    self.layer3 = self._make_layer(block,layers[2],int_channels=256,stride=2)\n",
        "    self.layer4 = self._make_layer(block,layers[3],int_channels=512,stride=2)\n",
        "    self.avgpool = nn.AdaptiveAvgPool2d((1,1))\n",
        "    self.fc1 = nn.Linear(512*4,num_classes)\n",
        "\n",
        "  def forward(self,x):\n",
        "    x = self.conv1(x)\n",
        "    x = self.bn1(x)\n",
        "    x = self.relu(x)\n",
        "    x = self.maxpool(x)\n",
        "    x = self.layer1(x)\n",
        "    x = self.layer2(x)\n",
        "    x = self.layer3(x)\n",
        "    x = self.layer4(x)\n",
        "    x = self.avgpool(x)\n",
        "    x = x.reshape(x.shape[0],-1)\n",
        "    x = self.fc1(x)\n",
        "    return x\n",
        "\n",
        "  def _make_layer(self,block,num_res_blocks,int_channels,stride):\n",
        "    identity_downsample =  None\n",
        "    layers = []\n",
        "\n",
        "    if stride!=1 or self.in_channels != int_channels*4:\n",
        "      identity_downsample = nn.Sequential(nn.Conv2d(self.in_channels,int_channels*4,\n",
        "                                                    kernel_size=1,stride=stride),\n",
        "                                          nn.BatchNorm2d(int_channels*4))\n",
        "      layers.append(ResBlock(self.in_channels,int_channels,identity_downsample,stride))\n",
        "      #this expansion size will always be 4 for all the types of ResNets\n",
        "      self.in_channels =  int_channels*4\n",
        "\n",
        "      for i in range(num_res_blocks-1):\n",
        "        layers.append(ResBlock(self.in_channels,int_channels))\n",
        "\n",
        "      return nn.Sequential(*layers)\n",
        "\n",
        "def ResNet18(img_channel=3,num_classes=1000):\n",
        "  return ResNet(ResBlock,[2,2,2,2],img_channel,num_classes)\n",
        "\n",
        "\n",
        "def ResNet34(img_channel=3,num_classes=1000):\n",
        "  return ResNet(ResBlock,[3,4,6,3],img_channel,num_classes)\n",
        "\n",
        "def ResNet50(img_channel=3,num_classes=1000):\n",
        "  return ResNet(ResBlock,[3,4,6,3],img_channel,num_classes)\n",
        "\n",
        "\n",
        "def ResNet101(img_channel=3,num_classes=1000):\n",
        "  return ResNet(ResBlock,[3,4,23,3],img_channel,num_classes)\n",
        "      \n",
        "\n",
        "def ResNet152(img_channel=3,num_classes=1000):\n",
        "  return ResNet(ResBlock,[3,8,36,3],img_channel,num_classes)\n",
        "  "
      ],
      "execution_count": 6,
      "outputs": []
    },
    {
      "cell_type": "code",
      "metadata": {
        "id": "KAyfJzPP0lRS",
        "outputId": "2b5c3f62-6c73-4681-8182-42ae7996c847",
        "colab": {
          "base_uri": "https://localhost:8080/"
        }
      },
      "source": [
        "def test():\n",
        "    net = ResNet101(img_channel=3,num_classes=1000)\n",
        "    x = torch.randn(4,3,224,224)\n",
        "    y = net(x).to(\"cuda\")\n",
        "    print(y.size())\n",
        "test()"
      ],
      "execution_count": 7,
      "outputs": [
        {
          "output_type": "stream",
          "text": [
            "torch.Size([4, 1000])\n"
          ],
          "name": "stdout"
        }
      ]
    },
    {
      "cell_type": "code",
      "metadata": {
        "id": "TNlDFB7xdQ-G"
      },
      "source": [
        ""
      ],
      "execution_count": null,
      "outputs": []
    }
  ]
}