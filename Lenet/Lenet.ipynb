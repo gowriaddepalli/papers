{
  "nbformat": 4,
  "nbformat_minor": 0,
  "metadata": {
    "colab": {
      "name": "Lenet.ipynb",
      "provenance": [],
      "collapsed_sections": []
    },
    "kernelspec": {
      "name": "python3",
      "display_name": "Python 3"
    },
    "accelerator": "GPU"
  },
  "cells": [
    {
      "cell_type": "markdown",
      "metadata": {
        "id": "26-p07BL2WtK"
      },
      "source": [
        "# LeNet Paper Implementation\n",
        "LeNet is a 7-level convolutional network by LeCun in 1998 that classifies digits and used by several banks to recognise hand-written numbers on cheques digitized in 32x32 pixel greyscale input images. "
      ]
    },
    {
      "cell_type": "code",
      "metadata": {
        "id": "FyNziK2B7qfc"
      },
      "source": [
        "#import library\n",
        "import torch\n",
        "import torch.nn as nn\n",
        "from torchvision import transforms\n",
        "from torch.utils.data import DataLoader\n",
        "from torchvision.datasets import MNIST\n",
        "import torch.nn.functional as F\n",
        "import torch.optim as optim"
      ],
      "execution_count": 66,
      "outputs": []
    },
    {
      "cell_type": "code",
      "metadata": {
        "id": "PL46HSp1ARO3"
      },
      "source": [
        "transform = transforms.Compose([transforms.Resize(32),\n",
        "                                transforms.ToTensor(),\n",
        "                                ])\n",
        "train_ds = MNIST(root='data/',train=True,download=True,transform=transform)\n",
        "test_ds = MNIST(root='data/',train=False,download=False,transform=transform)\n",
        "\n",
        "batch_size=128\n",
        "train_loader = DataLoader(train_ds,batch_size,shuffle=True,num_workers=4,pin_memory=True)\n",
        "val_loader = DataLoader(test_ds,batch_size,num_workers=4,pin_memory=True)"
      ],
      "execution_count": 67,
      "outputs": []
    },
    {
      "cell_type": "code",
      "metadata": {
        "id": "ODv__pzbBPXa"
      },
      "source": [
        "def accuracy(outputs,labels):\n",
        "  _,preds = torch.max(outputs,dim=1)\n",
        "  return torch.tensor(torch.sum(preds==labels).item()/len(preds))\n",
        " \n",
        "class ImageClassificationBase(nn.Module):\n",
        "  def training_step(self,batch):\n",
        "    images, labels = batch\n",
        "    out = self(images)\n",
        "    loss = F.cross_entropy(out,labels)\n",
        "    return loss\n",
        "  \n",
        "  def validation_step(self,batch):\n",
        "    images, labels = batch\n",
        "    out = self(images)\n",
        "    loss = F.cross_entropy(out,labels)\n",
        "    acc = accuracy(out,labels)\n",
        "    return {'val_loss': loss.detach(),'val_acc': acc}\n",
        "  \n",
        "  def validation_epoch_end(self,outputs):\n",
        "    batch_losses = [x['val_loss'] for x in outputs]\n",
        "    epoch_loss = torch.stack(batch_losses).mean()\n",
        "    batch_accs = [x['val_acc'] for x in outputs]\n",
        "    epoch_acc = torch.stack(batch_accs).mean()\n",
        "    return {'val_loss': epoch_loss.item(), 'val_acc': epoch_acc.item()}\n",
        "  \n",
        "  def epoch_end(self, epoch, result):\n",
        "    print(\"Epoch [{}], train_loss: {:.4f}, val_loss: {:.4f}, val_acc: {:.4f}\".format(\n",
        "            epoch, result['train_loss'], result['val_loss'], result['val_acc']))"
      ],
      "execution_count": 68,
      "outputs": []
    },
    {
      "cell_type": "markdown",
      "metadata": {
        "id": "fYbvn_Dw4THa"
      },
      "source": [
        "# Lenet Architecture"
      ]
    },
    {
      "cell_type": "code",
      "metadata": {
        "id": "RwiJ4ZWO-G2w"
      },
      "source": [
        "class Lenet(ImageClassificationBase):\n",
        "  def __init__(self):\n",
        "    super(Lenet,self).__init__()\n",
        "    self.tanh = nn.Tanh()      \n",
        "    self.pool = nn.AvgPool2d(kernel_size=(2,2),stride=(2,2))\n",
        "    self.conv1 = nn.Conv2d(in_channels=1,out_channels=6,kernel_size=(5,5),stride=(1,1))\n",
        "    self.conv2 = nn.Conv2d(in_channels=6,out_channels=16,kernel_size=(5,5),stride=(1,1))\n",
        "    self.conv3 = nn.Conv2d(in_channels=16,out_channels=120,kernel_size=(5,5),stride=(1,1))\n",
        "    self.linear1 = nn.Linear(120,84)\n",
        "    self.linear2 = nn.Linear(84,10)\n",
        "\n",
        "  def forward(self,x):\n",
        "    x = self.tanh(self.conv1(x))\n",
        "    x = self.pool(x)\n",
        "    x = self.tanh(self.conv2(x))\n",
        "    x = self.pool(x)\n",
        "    x = self.tanh(self.conv3(x))\n",
        "    x = x.reshape(x.shape[0],-1)\n",
        "    x = self.tanh(self.linear1(x))\n",
        "    x = self.linear2(x)\n",
        "    return x\n",
        "\n",
        "model = Lenet()"
      ],
      "execution_count": 69,
      "outputs": []
    },
    {
      "cell_type": "code",
      "metadata": {
        "id": "9zreunM_0G8v"
      },
      "source": [
        "def get_default_device():\n",
        "  \"\"\"Pick GPU if available else CPU\"\"\"\n",
        "  if torch.cuda.is_available():\n",
        "    return torch.device('cuda')\n",
        "  else:\n",
        "    return torch.device('cpu')"
      ],
      "execution_count": 70,
      "outputs": []
    },
    {
      "cell_type": "code",
      "metadata": {
        "id": "FyuEKo5-2I6o",
        "outputId": "4677999f-2f50-4940-8432-48afec704a8d",
        "colab": {
          "base_uri": "https://localhost:8080/"
        }
      },
      "source": [
        "device = get_default_device()\n",
        "device"
      ],
      "execution_count": 71,
      "outputs": [
        {
          "output_type": "execute_result",
          "data": {
            "text/plain": [
              "device(type='cuda')"
            ]
          },
          "metadata": {
            "tags": []
          },
          "execution_count": 71
        }
      ]
    },
    {
      "cell_type": "code",
      "metadata": {
        "id": "MUHI4RtDBorA"
      },
      "source": [
        "\n",
        "def to_device(data,device):\n",
        "  \"\"\"Move tensors to chosen device\"\"\"\n",
        "  if isinstance(data,(list,tuple)):\n",
        "    return [to_device(x,device) for x in data]\n",
        "  return data.to(device,non_blocking=True)"
      ],
      "execution_count": 72,
      "outputs": []
    },
    {
      "cell_type": "code",
      "metadata": {
        "id": "0nZ6izPhB5K6"
      },
      "source": [
        "class DeviceDataLoader():\n",
        "  \"\"\"Wrap a DataLoader to move data to a device\"\"\"\n",
        "  def __init__(self,dl,device):\n",
        "    self.dl = dl\n",
        "    self.device =  device\n",
        "  def __iter__(self):\n",
        "    \"\"\"Yield a batch of data to a dataloader\"\"\"\n",
        "    for b in self.dl:\n",
        "      yield to_device(b, self.device)\n",
        "  def __len__(self):\n",
        "    \"\"\"Number of batches\"\"\"\n",
        "    return len(self.dl)"
      ],
      "execution_count": 73,
      "outputs": []
    },
    {
      "cell_type": "code",
      "metadata": {
        "id": "AEA5jA9-B5vg",
        "outputId": "99a78b3d-131c-4370-b145-587173a1bfa5",
        "colab": {
          "base_uri": "https://localhost:8080/"
        }
      },
      "source": [
        "train_loader = DeviceDataLoader(train_loader,device)\n",
        "val_loader = DeviceDataLoader(val_loader,device)\n",
        "model = Lenet()\n",
        "to_device(model,device)"
      ],
      "execution_count": 74,
      "outputs": [
        {
          "output_type": "execute_result",
          "data": {
            "text/plain": [
              "Lenet(\n",
              "  (tanh): Tanh()\n",
              "  (pool): AvgPool2d(kernel_size=(2, 2), stride=(2, 2), padding=0)\n",
              "  (conv1): Conv2d(1, 6, kernel_size=(5, 5), stride=(1, 1))\n",
              "  (conv2): Conv2d(6, 16, kernel_size=(5, 5), stride=(1, 1))\n",
              "  (conv3): Conv2d(16, 120, kernel_size=(5, 5), stride=(1, 1))\n",
              "  (linear1): Linear(in_features=120, out_features=84, bias=True)\n",
              "  (linear2): Linear(in_features=84, out_features=10, bias=True)\n",
              ")"
            ]
          },
          "metadata": {
            "tags": []
          },
          "execution_count": 74
        }
      ]
    },
    {
      "cell_type": "code",
      "metadata": {
        "id": "G1Wimdk1CAVW"
      },
      "source": [
        " @torch.no_grad()\n",
        "def evaluate(model, val_loader):\n",
        "    model.eval()\n",
        "    outputs = [model.validation_step(batch) for batch in val_loader]\n",
        "    return model.validation_epoch_end(outputs)\n",
        " \n",
        "def fit(epochs, lr, model, train_loader, val_loader, opt_func=torch.optim.SGD):\n",
        "    history = []\n",
        "    train_losses =[]\n",
        "    optimizer = opt_func(model.parameters(), lr)\n",
        "    for epoch in range(epochs):\n",
        "        # Training Phase \n",
        "        model.train()\n",
        "        for batch in train_loader:\n",
        "            loss = model.training_step(batch)\n",
        "            train_losses.append(loss)\n",
        "            loss.backward()\n",
        "            optimizer.step()\n",
        "            optimizer.zero_grad()\n",
        "        # Validation phase\n",
        "        result = evaluate(model, val_loader)\n",
        "        result['train_loss'] = torch.stack(train_losses).mean().item()\n",
        "        model.epoch_end(epoch, result)\n",
        "        history.append(result)\n",
        "    return history"
      ],
      "execution_count": 75,
      "outputs": []
    },
    {
      "cell_type": "code",
      "metadata": {
        "id": "0Lqx_ElQCNEg",
        "outputId": "c138f4e3-c12c-49a0-d8be-75e1963b002f",
        "colab": {
          "base_uri": "https://localhost:8080/"
        }
      },
      "source": [
        "history = [evaluate(model, val_loader)]\n",
        "history"
      ],
      "execution_count": 76,
      "outputs": [
        {
          "output_type": "execute_result",
          "data": {
            "text/plain": [
              "[{'val_acc': 0.11323180049657822, 'val_loss': 2.301053762435913}]"
            ]
          },
          "metadata": {
            "tags": []
          },
          "execution_count": 76
        }
      ]
    },
    {
      "cell_type": "code",
      "metadata": {
        "id": "7Dp133fLCPBc",
        "outputId": "dc324f28-190e-4220-b70d-7fd061733b00",
        "colab": {
          "base_uri": "https://localhost:8080/"
        }
      },
      "source": [
        "history = fit(3,000.1,model,train_loader,val_loader)"
      ],
      "execution_count": 77,
      "outputs": [
        {
          "output_type": "stream",
          "text": [
            "Epoch [0], train_loss: 0.6566, val_loss: 0.2454, val_acc: 0.9258\n",
            "Epoch [1], train_loss: 0.4271, val_loss: 0.1334, val_acc: 0.9598\n",
            "Epoch [2], train_loss: 0.3255, val_loss: 0.0946, val_acc: 0.9721\n"
          ],
          "name": "stdout"
        }
      ]
    },
    {
      "cell_type": "code",
      "metadata": {
        "id": "R9CgiiGQHjiZ"
      },
      "source": [
        ""
      ],
      "execution_count": null,
      "outputs": []
    }
  ]
}