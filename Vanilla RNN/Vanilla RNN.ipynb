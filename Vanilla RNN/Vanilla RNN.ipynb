{
 "cells": [
  {
   "cell_type": "markdown",
   "metadata": {},
   "source": [
    "# Implementation of RNN from Scratch"
   ]
  },
  {
   "cell_type": "code",
   "execution_count": 1,
   "metadata": {},
   "outputs": [],
   "source": [
    "import torch\n",
    "import torch.nn as nn\n",
    "import torch.nn.functional as F\n",
    "from torch.autograd import Variable\n",
    "import math"
   ]
  },
  {
   "cell_type": "code",
   "execution_count": 13,
   "metadata": {},
   "outputs": [],
   "source": [
    "class RNN(nn.Module):\n",
    "    def __init__(self,input_size,hidden_size):\n",
    "        super(RNN,self).__init__()\n",
    "        self.input_size = input_size\n",
    "        self.hidden_size = hidden_size\n",
    "        #input to hidden\n",
    "        self.w_xh = nn.Parameter(torch.Tensor(hidden_size,input_size))\n",
    "        #hidden to hidden\n",
    "        self.w_hh  = nn.Parameter(torch.Tensor(hidden_size,hidden_size))\n",
    "        #hidden to output\n",
    "        self.w_hy = nn.Parameter(torch.Tensor(input_size,hidden_size))\n",
    "            \n",
    "        self.b_h = nn.Parameter(torch.Tensor(hidden_size))\n",
    "        self.b_y = nn.Parameter(torch.Tensor(input_size))\n",
    "    \n",
    "    def forward(self,x,h):\n",
    "        h = torch.tanh(torch.matmul(self.w_xh,x)+torch.matmul(self.w_hh,h)+self.b_h)\n",
    "        y = torch.matmul(self.w_hy,h) + self.b_y\n",
    "        \n",
    "        return y,h"
   ]
  },
  {
   "cell_type": "code",
   "execution_count": 14,
   "metadata": {},
   "outputs": [],
   "source": [
    "rnn = RNN(10,100)\n",
    "x = Variable(torch.Tensor(10))\n",
    "h = Variable(torch.Tensor(100))\n",
    "y,h = rnn(x,h)"
   ]
  },
  {
   "cell_type": "code",
   "execution_count": 15,
   "metadata": {},
   "outputs": [
    {
     "data": {
      "text/plain": [
       "\u001b[1;31mDocstring:\u001b[0m\n",
       "addmm(input, mat1, mat2, *, beta=1, alpha=1, out=None) -> Tensor\n",
       "\n",
       "Performs a matrix multiplication of the matrices :attr:`mat1` and :attr:`mat2`.\n",
       "The matrix :attr:`input` is added to the final result.\n",
       "\n",
       "If :attr:`mat1` is a :math:`(n \\times m)` tensor, :attr:`mat2` is a\n",
       ":math:`(m \\times p)` tensor, then :attr:`input` must be\n",
       ":ref:`broadcastable <broadcasting-semantics>` with a :math:`(n \\times p)` tensor\n",
       "and :attr:`out` will be a :math:`(n \\times p)` tensor.\n",
       "\n",
       ":attr:`alpha` and :attr:`beta` are scaling factors on matrix-vector product between\n",
       ":attr:`mat1` and :attr:`mat2` and the added matrix :attr:`input` respectively.\n",
       "\n",
       ".. math::\n",
       "    \\text{out} = \\beta\\ \\text{input} + \\alpha\\ (\\text{mat1}_i \\mathbin{@} \\text{mat2}_i)\n",
       "\n",
       "For inputs of type `FloatTensor` or `DoubleTensor`, arguments :attr:`beta` and\n",
       ":attr:`alpha` must be real numbers, otherwise they should be integers.\n",
       "\n",
       "Args:\n",
       "    input (Tensor): matrix to be added\n",
       "    mat1 (Tensor): the first matrix to be multiplied\n",
       "    mat2 (Tensor): the second matrix to be multiplied\n",
       "    beta (Number, optional): multiplier for :attr:`input` (:math:`\\beta`)\n",
       "    alpha (Number, optional): multiplier for :math:`mat1 @ mat2` (:math:`\\alpha`)\n",
       "    out (Tensor, optional): the output tensor.\n",
       "\n",
       "Example::\n",
       "\n",
       "    >>> M = torch.randn(2, 3)\n",
       "    >>> mat1 = torch.randn(2, 3)\n",
       "    >>> mat2 = torch.randn(3, 3)\n",
       "    >>> torch.addmm(M, mat1, mat2)\n",
       "    tensor([[-4.8716,  1.4671, -1.3746],\n",
       "            [ 0.7573, -3.9555, -2.8681]])\n",
       "\u001b[1;31mType:\u001b[0m      builtin_function_or_method\n"
      ]
     },
     "metadata": {},
     "output_type": "display_data"
    }
   ],
   "source": [
    "torch.addmm??"
   ]
  },
  {
   "cell_type": "code",
   "execution_count": null,
   "metadata": {},
   "outputs": [],
   "source": []
  }
 ],
 "metadata": {
  "kernelspec": {
   "display_name": "Python 3",
   "language": "python",
   "name": "python3"
  },
  "language_info": {
   "codemirror_mode": {
    "name": "ipython",
    "version": 3
   },
   "file_extension": ".py",
   "mimetype": "text/x-python",
   "name": "python",
   "nbconvert_exporter": "python",
   "pygments_lexer": "ipython3",
   "version": "3.7.6"
  }
 },
 "nbformat": 4,
 "nbformat_minor": 4
}
